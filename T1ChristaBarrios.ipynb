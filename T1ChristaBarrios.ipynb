{
 "cells": [
  {
   "cell_type": "markdown",
   "id": "75b79a53",
   "metadata": {},
   "source": [
    "# Resumen de lectura MLOps:\n",
    "\n",
    "[A Gentle Introduction to MLOps: A guide to the world of Machine Learning Operations.](https://towardsdatascience.com/a-gentle-introduction-to-mlops-7d64a3e890ff)"
   ]
  },
  {
   "cell_type": "markdown",
   "id": "cfd9abf2",
   "metadata": {},
   "source": [
    "MLOps es la gestión de operaciones en Aprendizaje Automático (AA). Implica pasos para **desplegar modelos de AA en producción, garantizando escalabilidad y precisión**. La necesidad de MLOps radica en la complejidad de manejar datos masivos, ajustar parámetros, ingeniería de características y monitoreo.\n",
    "\n",
    "A diferencia de DevOps, que se enfoca en desarrollar aplicaciones, MLOps tiene etapas específicas:\n",
    "\n",
    "1. Definir el alcance y verificar datos relevantes y no sesgados.\n",
    "2. Ingeniería de Datos: recolectar, limpiar y etiquetar datos.\n",
    "3. Modelado: crear y entrenar el modelo, analizar errores y medir su desempeño.\n",
    "4. Despliegue: empaquetar y desplegar el modelo en la nube o dispositivos edge.\n",
    "5. Monitoreo: supervisar la infraestructura y el modelo en tiempo real, ajustándolo según sea necesario.\n",
    "\n",
    "Este ciclo de vida es esencial para la mayoría de los casos de uso de AA, ya que permite modelos confiables y actualizados en respuesta a cambios del mundo real.\n",
    "\n",
    "Implementación de Infraestructura para Despliegue de Modelos en Producción\n",
    "\n",
    "Para desplegar un modelo en producción, se requiere una infraestructura adecuada que va más allá del código de ML. Los componentes clave son:\n",
    "\n",
    "1. **Recolección de Datos:** Se recopilan datos de diversas fuentes, consolidando información cruda relacionada con el problema. Esto incluye imágenes, audio, o cualquier tipo de datos necesarios para el modelo.\n",
    "\n",
    "2. **Verificación de Datos:** Se valida la validez y actualidad de los datos recopilados. Además, se asegura que los datos estén en un formato adecuado y reflejen la realidad.\n",
    "\n",
    "3. **Extracción de Características:** Se seleccionan las características más relevantes para el modelo. Algunas columnas pueden no ser útiles, y ciertos modelos requieren un enfoque selectivo en los datos.\n",
    "\n",
    "4. **Configuración:** Se establecen protocolos para la comunicación, integración de sistemas y cómo los componentes se conectan. La configuración adecuada se documenta.\n",
    "\n",
    "5. **Código de AA:** Se desarrolla el modelo de AA. Se implementa en bibliotecas como TensorFlow, PyTorch o scikit-learn. Se optimiza el modelo ajustando parámetros y enfoques de aprendizaje.\n",
    "\n",
    "6. **Gestión de Recursos:** Se planifican los recursos necesarios para el modelo. Se considera el uso de CPU, memoria y almacenamiento. Los modelos de aprendizaje profundo dependen de GPU y TPU.\n",
    "\n",
    "7. **Herramientas de Análisis:** Se definen métricas de rendimiento y se mide el desempeño del modelo. Se comprueba si hay sobreajuste, sesgo y se analizan resultados.\n",
    "\n",
    "8. **Herramientas de Gestión de Proyectos:** Se utilizan herramientas de gestión para mantener el seguimiento del proyecto, ya que manejar datos, código y recursos puede ser complejo.\n",
    "\n",
    "9. **Infraestructura de Servicio:** Una vez que el modelo está listo, se despliega en la nube, utilizando proveedores como AWS o Azure. Para modelos en dispositivos edge, se considera la capacidad de cómputo disponible.\n",
    "\n",
    "10. **Monitoreo:** Se implementa un sistema de monitoreo para el modelo y su entorno. Los registros de modelo, acceso de usuarios y predicciones ayudan en el mantenimiento.\n",
    "\n",
    "En un ejemplo práctico, Jen quiere predecir si una calabaza es buena o mala. Se recopilan imágenes, se etiquetan y se entrena un modelo. Luego, se evalúa y ajusta el modelo. Finalmente, se despliega en la nube para que Jen pueda usarlo a diario.\n",
    "\n",
    "Este proceso manual es el nivel-0 de MLOps. El despliegue se logra, pero todo se hace de manera manual.\n"
   ]
  },
  {
   "cell_type": "markdown",
   "id": "23f3d07c",
   "metadata": {},
   "source": [
    "![alt text](https://miro.medium.com/v2/resize:fit:1100/format:webp/1*5bzbexO-yyuLgrqlXFdJ_g.png)"
   ]
  },
  {
   "cell_type": "markdown",
   "id": "9b3c95ff",
   "metadata": {},
   "source": [
    "Automatización y Escalabilidad en MLOps\n",
    "\n",
    "Con el aumento de la demanda, se requiere una automatización eficiente. Se crea un pipeline automatizado para validar y preparar datos, y entrenar el modelo. Se busca el mejor modelo disponible al comparar varias métricas de error. Este proceso es el Nivel-1 de MLOps, donde el entrenamiento y análisis del modelo son automatizados. La validación de datos y la prevención de conjuntos sesgados son responsabilidades claves.\n",
    "\n",
    "La mayoría de las empresas alcanzan este nivel de MLOps, y también es alcanzable por científicos de datos o ingenieros de ML individuales. Este nivel es adecuado para probar modelos en entornos de desarrollo.\n",
    "\n",
    "Ahora, planteémonos algunas preguntas con base en el ejempl:\n",
    "\n",
    "1. ¿Tu modelo puede replicar resultados con diferentes variedades de calabazas?\n",
    "2. ¿Cuando se agrega nueva información al conjunto de datos, tu modelo puede volver a entrenarse?\n",
    "3. ¿Tu modelo puede ser utilizado por cientos de miles de personas a la vez? ¿Es escalable?\n",
    "4. ¿Cómo haces un seguimiento de los modelos desplegados en diferentes regiones o incluso a nivel global?\n",
    "\n",
    "Esto nos lleva al Nivel-2 de MLOps."
   ]
  },
  {
   "cell_type": "markdown",
   "id": "be595e59",
   "metadata": {},
   "source": [
    "![alt text](https://miro.medium.com/v2/resize:fit:3982/format:webp/1*t0Dqrwaw_wOMacqyx0wfMQ.png)"
   ]
  },
  {
   "cell_type": "markdown",
   "id": "c866c64e",
   "metadata": {},
   "source": [
    "Nivel-2 de MLOps: Orquestación y Escalabilidad Avanzadas\n",
    "\n",
    "Todo lo que hacemos por **encima de la línea roja en el diagrama de flujo es parte del Nivel-1 de MLOps**. La totalidad de este Experimento Orquestado ahora forma parte del Pipeline de ML Automatizado.\n",
    "\n",
    "Introducimos un Feature Store que extrae datos de diversas fuentes y los transforma en características requeridas por el modelo. El pipeline de ML utiliza estos datos en lotes.\n",
    "\n",
    "El pipeline de ML está conectado a un Metadata Store, que funciona como registro de seguimiento. Dado que no entrenamos el modelo manualmente, este almacenamiento registra cada etapa del pipeline. Una vez que se completa una etapa, la siguiente consulta los registros, toma los registros de la etapa anterior y continúa desde allí.\n",
    "\n",
    "Los modelos se almacenan en un Registro de Modelos. Aquí se guardan varios modelos con diferentes niveles de precisión. Según la necesidad, el modelo adecuado se envía a un pipeline de CI/CD que lo despliega como un Servicio de Predicción. Los usuarios autorizados pueden acceder al servicio de predicción cuando lo deseen.\n",
    "\n",
    "Este sistema se monitoriza para evaluar su rendimiento. Por ejemplo, si tienes un nuevo grupo de calabazas modificadas genéticamente, tu modelo no está al tanto. Este nuevo conjunto de datos tiene una alta probabilidad de clasificación errónea. Una caída en el rendimiento activaría un disparador que llevaría al nuevo entrenamiento del modelo con los datos actualizados.\n",
    "\n",
    "Este ciclo continúa, permitiendo una mejora constante y adaptación a cambios en los datos y requerimientos."
   ]
  }
 ],
 "metadata": {
  "kernelspec": {
   "display_name": "Python 3 (ipykernel)",
   "language": "python",
   "name": "python3"
  },
  "language_info": {
   "codemirror_mode": {
    "name": "ipython",
    "version": 3
   },
   "file_extension": ".py",
   "mimetype": "text/x-python",
   "name": "python",
   "nbconvert_exporter": "python",
   "pygments_lexer": "ipython3",
   "version": "3.9.7"
  }
 },
 "nbformat": 4,
 "nbformat_minor": 5
}
